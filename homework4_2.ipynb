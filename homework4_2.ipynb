{
  "nbformat": 4,
  "nbformat_minor": 0,
  "metadata": {
    "kernelspec": {
      "display_name": "Python 3",
      "language": "python",
      "name": "python3"
    },
    "language_info": {
      "codemirror_mode": {
        "name": "ipython",
        "version": 3
      },
      "file_extension": ".py",
      "mimetype": "text/x-python",
      "name": "python",
      "nbconvert_exporter": "python",
      "pygments_lexer": "ipython3",
      "version": "3.8.5"
    },
    "colab": {
      "name": "homework4-2.ipynb",
      "provenance": [],
      "collapsed_sections": []
    }
  },
  "cells": [
    {
      "cell_type": "code",
      "metadata": {
        "id": "D0uEgsMmnbJ1"
      },
      "source": [
        "import numpy as np\n",
        "import scipy as sp"
      ],
      "execution_count": null,
      "outputs": []
    },
    {
      "cell_type": "markdown",
      "metadata": {
        "id": "WfuYjtpfnbJ1"
      },
      "source": [
        "__1.__ Решить систему уравнений методом Крамера:\n",
        "\n",
        "   а) $\\begin{cases}\n",
        "x_{1}-2x_{2}=1 \\\\\n",
        "3x_{1}-4x_{2}=7\n",
        "\\end{cases}$\n",
        "    "
      ]
    },
    {
      "cell_type": "code",
      "metadata": {
        "id": "yy8bhH4onbJ1"
      },
      "source": [
        "A = np.array([[1,-2], [3, -4]])"
      ],
      "execution_count": null,
      "outputs": []
    },
    {
      "cell_type": "code",
      "metadata": {
        "id": "GoRvT5ehnbJ1",
        "outputId": "38821ec6-96e7-4f5c-c7af-48e5bad597bd"
      },
      "source": [
        "np.linalg.det(A)"
      ],
      "execution_count": null,
      "outputs": [
        {
          "output_type": "execute_result",
          "data": {
            "text/plain": [
              "2.0000000000000004"
            ]
          },
          "metadata": {
            "tags": []
          },
          "execution_count": 3
        }
      ]
    },
    {
      "cell_type": "code",
      "metadata": {
        "id": "O6Ld07PXnbJ2"
      },
      "source": [
        "A1 = np.array([[1,7], [3, -4]])\n",
        "A2 = np.array([[1,-2], [1, 7]])"
      ],
      "execution_count": null,
      "outputs": []
    },
    {
      "cell_type": "code",
      "metadata": {
        "id": "rz0VKiy-nbJ2"
      },
      "source": [
        "x1 = np.linalg.det(A1) / np.linalg.det(A)\n",
        "x2 = np.linalg.det(A2) / np.linalg.det(A)"
      ],
      "execution_count": null,
      "outputs": []
    },
    {
      "cell_type": "code",
      "metadata": {
        "id": "ok-H4e_SnbJ2",
        "outputId": "c85f03c0-76c9-4783-c59a-34631fab2af6"
      },
      "source": [
        "print(f'x1 = {x1}\\nx2 = {x2}\\n')"
      ],
      "execution_count": null,
      "outputs": [
        {
          "output_type": "stream",
          "text": [
            "x1 = -12.5\n",
            "x2 = 4.5\n",
            "\n"
          ],
          "name": "stdout"
        }
      ]
    },
    {
      "cell_type": "markdown",
      "metadata": {
        "id": "3IC7uhyOnbJ2"
      },
      "source": [
        "   б) $\\begin{cases}\n",
        "2x_{1}-x_{2}+5x_{3}=10 \\\\\n",
        "x_{1}+x_{2}-3x_{3}=-2 \\\\\n",
        "2x_{1}+4x_{2}+x_{3}=1\n",
        "\\end{cases}$"
      ]
    },
    {
      "cell_type": "code",
      "metadata": {
        "id": "4WPfP7e9nbJ2"
      },
      "source": [
        "A = np.array([[2, -1, 5], [1, -1, -3], [2, 4, 1]])"
      ],
      "execution_count": null,
      "outputs": []
    },
    {
      "cell_type": "code",
      "metadata": {
        "id": "6EVociPgnbJ2",
        "outputId": "0644e7b6-0c14-46f1-e0f7-d10f5ded3df9"
      },
      "source": [
        "np.linalg.det(A)"
      ],
      "execution_count": null,
      "outputs": [
        {
          "output_type": "execute_result",
          "data": {
            "text/plain": [
              "58.999999999999964"
            ]
          },
          "metadata": {
            "tags": []
          },
          "execution_count": 8
        }
      ]
    },
    {
      "cell_type": "code",
      "metadata": {
        "id": "dMPpnxBHnbJ2"
      },
      "source": [
        "A1 = np.array([[10, -2, 1], [1, -1, -3], [2, 4, 1]])\n",
        "A2 = np.array([[2, -1, 5], [10, -2, 1], [2, 4, 1]])\n",
        "A3 = np.array([[2, -1, 5], [1, -1, -3], [10, -2, 1]])"
      ],
      "execution_count": null,
      "outputs": []
    },
    {
      "cell_type": "code",
      "metadata": {
        "id": "yjMkB1gBnbJ2",
        "outputId": "022b02bf-1db7-402d-f72d-399cc878e124"
      },
      "source": [
        "np.linalg.det(A1)"
      ],
      "execution_count": null,
      "outputs": [
        {
          "output_type": "execute_result",
          "data": {
            "text/plain": [
              "130.00000000000009"
            ]
          },
          "metadata": {
            "tags": []
          },
          "execution_count": 10
        }
      ]
    },
    {
      "cell_type": "code",
      "metadata": {
        "id": "M5FFfyEfnbJ2"
      },
      "source": [
        "x1 = np.linalg.det(A1) / np.linalg.det(A)\n",
        "x2 = np.linalg.det(A2) / np.linalg.det(A)\n",
        "x3 = np.linalg.det(A3) / np.linalg.det(A)"
      ],
      "execution_count": null,
      "outputs": []
    },
    {
      "cell_type": "code",
      "metadata": {
        "id": "vefZLipSnbJ3",
        "outputId": "139d6172-0577-41cc-e2b2-c6f308f1ade8"
      },
      "source": [
        "print(f'x1 = {x1}\\nx2 = {x2}\\nx3 = {x3}')"
      ],
      "execution_count": null,
      "outputs": [
        {
          "output_type": "stream",
          "text": [
            "x1 = 2.203389830508477\n",
            "x2 = 3.6610169491525455\n",
            "x3 = 0.966101694915255\n"
          ],
          "name": "stdout"
        }
      ]
    },
    {
      "cell_type": "markdown",
      "metadata": {
        "id": "u5gIWFPqnbJ3"
      },
      "source": [
        "__2*.__ Найти $L$-матрицу $LU$-разложения для матрицы коэффициентов:\n",
        "\n",
        "   а)$$\\begin{pmatrix}\n",
        "1 & 2 & 4 \\\\ \n",
        "2 & 9 & 12 \\\\ \n",
        "3 & 26 & 30\n",
        "\\end{pmatrix}$$"
      ]
    },
    {
      "cell_type": "code",
      "metadata": {
        "id": "pXf6r-VInbJ3"
      },
      "source": [
        "from scipy.linalg import lu"
      ],
      "execution_count": null,
      "outputs": []
    },
    {
      "cell_type": "code",
      "metadata": {
        "id": "wo7tI1k8nbJ3",
        "outputId": "c880fd3a-2d66-4dbf-80b5-189c6ff47eff"
      },
      "source": [
        "A = np.array([[1, 2, 4], [2, 9, 12], [3, 26, 30]])\n",
        "A"
      ],
      "execution_count": null,
      "outputs": [
        {
          "output_type": "execute_result",
          "data": {
            "text/plain": [
              "array([[ 1,  2,  4],\n",
              "       [ 2,  9, 12],\n",
              "       [ 3, 26, 30]])"
            ]
          },
          "metadata": {
            "tags": []
          },
          "execution_count": 14
        }
      ]
    },
    {
      "cell_type": "code",
      "metadata": {
        "id": "LZRuadsSnbJ3",
        "outputId": "da31a994-8ad0-46a5-af68-d54974bcaf67"
      },
      "source": [
        "print(f'L = \\n\\n{lu(A)[1]}')"
      ],
      "execution_count": null,
      "outputs": [
        {
          "output_type": "stream",
          "text": [
            "L = \n",
            "\n",
            "[[1.         0.         0.        ]\n",
            " [0.66666667 1.         0.        ]\n",
            " [0.33333333 0.8        1.        ]]\n"
          ],
          "name": "stdout"
        }
      ]
    },
    {
      "cell_type": "markdown",
      "metadata": {
        "id": "vjR0NzG2nbJ3"
      },
      "source": [
        "   б)$$\\begin{pmatrix}\n",
        "1 & 1 & 2 & 4\\\\ \n",
        "2 & 5 & 8 & 9\\\\ \n",
        "3 & 18 & 29 & 18\\\\\n",
        "4 & 22 & 53 & 33\n",
        "\\end{pmatrix}$$"
      ]
    },
    {
      "cell_type": "code",
      "metadata": {
        "id": "h2qj1l33nbJ3",
        "outputId": "5b6cb50a-40a1-49f0-88bf-dd144ef0d9e1"
      },
      "source": [
        "A = np.array([[1, 1, 2, 4], [2, 5, 8, 9], [3, 18, 29, 18], [4, 22, 53, 33]])\n",
        "A"
      ],
      "execution_count": null,
      "outputs": [
        {
          "output_type": "execute_result",
          "data": {
            "text/plain": [
              "array([[ 1,  1,  2,  4],\n",
              "       [ 2,  5,  8,  9],\n",
              "       [ 3, 18, 29, 18],\n",
              "       [ 4, 22, 53, 33]])"
            ]
          },
          "metadata": {
            "tags": []
          },
          "execution_count": 16
        }
      ]
    },
    {
      "cell_type": "code",
      "metadata": {
        "id": "ch5sUeIUnbJ3",
        "outputId": "f3edfeaf-e1e3-4292-c93b-77cee44a0dd5"
      },
      "source": [
        "print(f'L = \\n\\n{lu(A)[1]}')"
      ],
      "execution_count": null,
      "outputs": [
        {
          "output_type": "stream",
          "text": [
            "L = \n",
            "\n",
            "[[ 1.          0.          0.          0.        ]\n",
            " [ 0.5         1.          0.          0.        ]\n",
            " [ 0.75       -0.25        1.          0.        ]\n",
            " [ 0.25        0.75       -0.17073171  1.        ]]\n"
          ],
          "name": "stdout"
        }
      ]
    },
    {
      "cell_type": "markdown",
      "metadata": {
        "id": "SpVFlVqHnbJ4"
      },
      "source": [
        "__3*.__ Решить систему линейных уравнений методом $LU$-разложения\n",
        "\n",
        "$$\\begin{cases}\n",
        "2x_{1}+x_{2}+3x_{3}=1 \\\\\n",
        "11x_{1}+7x_{2}+5x_{3}=-6 \\\\\n",
        "9x_{1}+8x_{2}+4x_{3}=-5\n",
        "\\end{cases}$$"
      ]
    },
    {
      "cell_type": "code",
      "metadata": {
        "id": "6Ca9MzeLnbJ4"
      },
      "source": [
        "from scipy.linalg import lu_factor, lu_solve"
      ],
      "execution_count": null,
      "outputs": []
    },
    {
      "cell_type": "code",
      "metadata": {
        "id": "0p6l8VjqnbJ4",
        "outputId": "8fe3f2b3-19f5-4f3b-a467-bab96b06d28c"
      },
      "source": [
        "A = np.array([[2, 1, 3], [11, 7, 5], [9, 8, 4]])\n",
        "A"
      ],
      "execution_count": null,
      "outputs": [
        {
          "output_type": "execute_result",
          "data": {
            "text/plain": [
              "array([[ 2,  1,  3],\n",
              "       [11,  7,  5],\n",
              "       [ 9,  8,  4]])"
            ]
          },
          "metadata": {
            "tags": []
          },
          "execution_count": 19
        }
      ]
    },
    {
      "cell_type": "code",
      "metadata": {
        "id": "DLVMERwbnbJ4"
      },
      "source": [
        "b = np.array([1, -6, -5])"
      ],
      "execution_count": null,
      "outputs": []
    },
    {
      "cell_type": "code",
      "metadata": {
        "id": "zvh14AL6nbJ4"
      },
      "source": [
        "lu, piv = lu_factor(A)"
      ],
      "execution_count": null,
      "outputs": []
    },
    {
      "cell_type": "code",
      "metadata": {
        "id": "T6NxPOnJnbJ4"
      },
      "source": [
        "x = lu_solve((lu, piv), b)"
      ],
      "execution_count": null,
      "outputs": []
    },
    {
      "cell_type": "code",
      "metadata": {
        "id": "bC_JSuhcnbJ4",
        "outputId": "a1e6fd86-a07b-4d6f-d15d-16762196fc33"
      },
      "source": [
        "print(f'x1 = {x[0]}\\nx2 = {x[1]}\\nx3 = {x[2]}')"
      ],
      "execution_count": null,
      "outputs": [
        {
          "output_type": "stream",
          "text": [
            "x1 = -1.0\n",
            "x2 = 0.0\n",
            "x3 = 1.0\n"
          ],
          "name": "stdout"
        }
      ]
    },
    {
      "cell_type": "markdown",
      "metadata": {
        "id": "5oWl475fnbJ4"
      },
      "source": [
        "__4*.__ Решить систему линейных уравнений методом Холецкого\n",
        "\n",
        "$$\\begin{cases}\n",
        "81x_{1}-45x_{2}+45x_{3}=531 \\\\\n",
        "-45x_{1}+50x_{2}-15x_{3}=-460 \\\\\n",
        "45x_{1}-15x_{2}+38x_{3}=193\n",
        "\\end{cases}$$"
      ]
    },
    {
      "cell_type": "code",
      "metadata": {
        "id": "Zjt43qQqnbJ4"
      },
      "source": [
        "from scipy.linalg import cho_factor, cho_solve, cholesky"
      ],
      "execution_count": null,
      "outputs": []
    },
    {
      "cell_type": "code",
      "metadata": {
        "id": "uEH9mULfnbJ4",
        "outputId": "45773078-e9dd-4f3c-b48e-871e6b85be2c"
      },
      "source": [
        "A = np.array([[81, -45, 45], [-45, 50, -15], [45, -15, 38]])\n",
        "A"
      ],
      "execution_count": null,
      "outputs": [
        {
          "output_type": "execute_result",
          "data": {
            "text/plain": [
              "array([[ 81, -45,  45],\n",
              "       [-45,  50, -15],\n",
              "       [ 45, -15,  38]])"
            ]
          },
          "metadata": {
            "tags": []
          },
          "execution_count": 25
        }
      ]
    },
    {
      "cell_type": "code",
      "metadata": {
        "id": "TW0Jn-27nbJ4"
      },
      "source": [
        "b = np.array([531, -460, 193])"
      ],
      "execution_count": null,
      "outputs": []
    },
    {
      "cell_type": "code",
      "metadata": {
        "id": "FqZnAQlWnbJ4"
      },
      "source": [
        "c, low = cho_factor(A)"
      ],
      "execution_count": null,
      "outputs": []
    },
    {
      "cell_type": "code",
      "metadata": {
        "id": "y5A1qEGknbJ4"
      },
      "source": [
        "x = cho_solve((c, low), b)"
      ],
      "execution_count": null,
      "outputs": []
    },
    {
      "cell_type": "code",
      "metadata": {
        "id": "qnpoltpxnbJ4",
        "outputId": "6c7e4ea1-7bf3-4876-ba19-1e26d452fc37"
      },
      "source": [
        "print(f'x1 = {x[0]}\\nx2 = {x[1]}\\nx3 = {x[2]}')"
      ],
      "execution_count": null,
      "outputs": [
        {
          "output_type": "stream",
          "text": [
            "x1 = 6.0\n",
            "x2 = -5.0\n",
            "x3 = -4.0\n"
          ],
          "name": "stdout"
        }
      ]
    }
  ]
}