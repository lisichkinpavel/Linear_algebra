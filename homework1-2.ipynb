{
 "cells": [
  {
   "cell_type": "markdown",
   "metadata": {
    "id": "rnPVQP84c7cu"
   },
   "source": [
    "## Практическое задание"
   ]
  },
  {
   "cell_type": "markdown",
   "metadata": {
    "id": "z7R2FqUKEDUC"
   },
   "source": [
    "__1.__ Найти скалярное произведение векторов $x, y \\in \\mathbb{R}$:<br>\n",
    "а) $x=(0,-3, 6),~y=(-4, 7, 9);$<br>\n"
   ]
  },
  {
   "cell_type": "markdown",
   "metadata": {
    "id": "U2gTdA8dEPtl"
   },
   "source": [
    "$(x,y)=0\\cdot-4-3\\cdot7+6\\cdot9=0 - 21 + 54=33$"
   ]
  },
  {
   "cell_type": "code",
   "execution_count": 1,
   "metadata": {
    "executionInfo": {
     "elapsed": 1388,
     "status": "ok",
     "timestamp": 1604221902214,
     "user": {
      "displayName": "Pavel Lisichkin",
      "photoUrl": "https://lh3.googleusercontent.com/-f9gV6hG1Ko4/AAAAAAAAAAI/AAAAAAAAAkk/lsPxSr98-TU/s64/photo.jpg",
      "userId": "08527622939133697494"
     },
     "user_tz": -180
    },
    "id": "DwrZVBJfc7aP"
   },
   "outputs": [],
   "source": [
    "import numpy as np"
   ]
  },
  {
   "cell_type": "code",
   "execution_count": 2,
   "metadata": {
    "colab": {
     "base_uri": "https://localhost:8080/"
    },
    "executionInfo": {
     "elapsed": 549,
     "status": "ok",
     "timestamp": 1604221935704,
     "user": {
      "displayName": "Pavel Lisichkin",
      "photoUrl": "https://lh3.googleusercontent.com/-f9gV6hG1Ko4/AAAAAAAAAAI/AAAAAAAAAkk/lsPxSr98-TU/s64/photo.jpg",
      "userId": "08527622939133697494"
     },
     "user_tz": -180
    },
    "id": "JRX8Hr2ec7aU",
    "outputId": "06f312e3-a15d-455b-8706-267e674560aa"
   },
   "outputs": [
    {
     "name": "stdout",
     "output_type": "stream",
     "text": [
      "Скалярное произведение x и y:\n",
      "33\n"
     ]
    }
   ],
   "source": [
    "x = np.array([0, -3, 6])\n",
    "y = np.array([-4, 7, 9])\n",
    "print(f'Скалярное произведение x и y:\\n{np.dot(x, y)}')"
   ]
  },
  {
   "cell_type": "markdown",
   "metadata": {
    "id": "ysG3HN4fEMII"
   },
   "source": [
    "б) $x=(7, -4, 0, 1),~y=(-3, 1, 11, 2).$"
   ]
  },
  {
   "cell_type": "markdown",
   "metadata": {
    "id": "9Kbjc6CaFFOh"
   },
   "source": [
    "$(x,y)=7\\cdot-3-4\\cdot1+0\\cdot11 + 1\\cdot2=-21 - 4 + 0 + 2=-23$"
   ]
  },
  {
   "cell_type": "code",
   "execution_count": 3,
   "metadata": {
    "colab": {
     "base_uri": "https://localhost:8080/"
    },
    "executionInfo": {
     "elapsed": 1073,
     "status": "ok",
     "timestamp": 1604222179733,
     "user": {
      "displayName": "Pavel Lisichkin",
      "photoUrl": "https://lh3.googleusercontent.com/-f9gV6hG1Ko4/AAAAAAAAAAI/AAAAAAAAAkk/lsPxSr98-TU/s64/photo.jpg",
      "userId": "08527622939133697494"
     },
     "user_tz": -180
    },
    "id": "v4zlLJaxFYbP",
    "outputId": "a639173b-d00f-4639-d9c6-a66b25aca8ee"
   },
   "outputs": [
    {
     "name": "stdout",
     "output_type": "stream",
     "text": [
      "Скалярное произведение x и y:\n",
      "-23\n"
     ]
    }
   ],
   "source": [
    "x = np.array([7, -4, 0, 1])\n",
    "y = np.array([-3, 1, 11, 2])\n",
    "print(f'Скалярное произведение x и y:\\n{np.dot(x, y)}')"
   ]
  },
  {
   "cell_type": "markdown",
   "metadata": {
    "id": "icqI-X_eGCaG"
   },
   "source": [
    "__2.__ Найти нормы векторов $(4, 2, 4)$ и $(12, 3, 4)$ и угол между ними."
   ]
  },
  {
   "cell_type": "markdown",
   "metadata": {
    "id": "udYiJtfhKYkK"
   },
   "source": [
    "$a = (4, 2, 4)$\n",
    "\n",
    "$b = (12, 3, 4)$\n",
    "\n",
    "$\\left\\| a \\right\\|_{1} = |4| + |2| + |4| = 10 $\n",
    "\n",
    "$\\left\\| b \\right\\|_{1} = |12| + |3| + |4| = 19 $\n",
    "\n",
    "$\\left\\| a \\right\\|_{2} = \\sqrt{4^2 + 2^2 + 4^2 }= \\sqrt{36} = 6$\n",
    "\n",
    "$\\left\\| b \\right\\|_{2} = \\sqrt{12^2 + 3^2 + 4^2 } = \\sqrt{169} = 13 $\n",
    "\n",
    "$(a,b)=4\\cdot12 + 2\\cdot3 + 4\\cdot4 = 48 + 6 + 16 = 70$\n",
    "\n",
    "$cos\\varphi = \\frac{(x,y)}{\\left \\|x\\right \\|\\cdot\\left \\|y\\right \\|} = \\frac{70}{6 \\cdot 13}\\approx 0.897$"
   ]
  },
  {
   "cell_type": "code",
   "execution_count": 4,
   "metadata": {
    "executionInfo": {
     "elapsed": 974,
     "status": "ok",
     "timestamp": 1604224417586,
     "user": {
      "displayName": "Pavel Lisichkin",
      "photoUrl": "https://lh3.googleusercontent.com/-f9gV6hG1Ko4/AAAAAAAAAAI/AAAAAAAAAkk/lsPxSr98-TU/s64/photo.jpg",
      "userId": "08527622939133697494"
     },
     "user_tz": -180
    },
    "id": "z3LbkoM7F9UW"
   },
   "outputs": [],
   "source": [
    "from numpy.linalg import norm"
   ]
  },
  {
   "cell_type": "code",
   "execution_count": 11,
   "metadata": {
    "colab": {
     "base_uri": "https://localhost:8080/"
    },
    "executionInfo": {
     "elapsed": 1034,
     "status": "ok",
     "timestamp": 1604224711947,
     "user": {
      "displayName": "Pavel Lisichkin",
      "photoUrl": "https://lh3.googleusercontent.com/-f9gV6hG1Ko4/AAAAAAAAAAI/AAAAAAAAAkk/lsPxSr98-TU/s64/photo.jpg",
      "userId": "08527622939133697494"
     },
     "user_tz": -180
    },
    "id": "Y26MVQIIOfsT",
    "outputId": "34b37dee-f6de-42bb-e8e7-7465c5de9100"
   },
   "outputs": [
    {
     "name": "stdout",
     "output_type": "stream",
     "text": [
      "Манхэттенская норма вектора a: 10.0\n",
      "Манхэттенская норма вектора b: 19.0\n",
      "Евклидова норма вектора a: 6.0\n",
      "Евклидова норма вектора b: 13.0 \n",
      "\n",
      "Скалярное произведение a и b: 70\n",
      "\n",
      "Косинус угла между a и b: 0.897\n",
      "Угол между a и b: 0.457\n"
     ]
    }
   ],
   "source": [
    "a = np.array([4,2,4])\n",
    "b = np.array([12,3,4])\n",
    "print(f'Манхэттенская норма вектора a: {norm(a, ord=1)}')\n",
    "print(f'Манхэттенская норма вектора b: {norm(b, ord=1)}')\n",
    "print(f'Евклидова норма вектора a: {norm(a, ord=2)}')\n",
    "print(f'Евклидова норма вектора b: {norm(b, ord=2)} \\n')\n",
    "print(f'Скалярное произведение a и b: {np.dot(a, b)}\\n')\n",
    "\n",
    "cos_phi = np.dot(a, b) / norm(a) / norm(b)\n",
    "print(f'Косинус угла между a и b: {cos_phi:.3f}')\n",
    "print(f'Угол между a и b: {np.arccos(cos_phi):.3f}')"
   ]
  },
  {
   "cell_type": "markdown",
   "metadata": {
    "id": "r3CXIKODPyK7"
   },
   "source": [
    "__3.__ Будет ли линейное пространство евклидовым, если за скалярное произведение принять:<br>\n",
    "а) произведение длин векторов;<br>\n",
    "б) утроенное обычное скалярное произведение векторов?"
   ]
  },
  {
   "cell_type": "markdown",
   "metadata": {
    "id": "-Zc7kKX1PyxX"
   },
   "source": [
    "__4.__ Какие из нижеперечисленных векторов образуют ортонормированный базис в линейном пространстве $\\mathbb{R}^{3}$:<br>\n",
    "а) $(1,0,0),(0,0,1);$ <br>\n",
    "б) $(1/\\sqrt{2},-1/\\sqrt{2},0),(1/\\sqrt{2},1/\\sqrt{2},0), (0,0,1);$<br>\n",
    "в) $(1/2, -1/2, 0), (0, 1/2, 1/2), (0,0,1);$<br>\n",
    "г) $(1,0,0),(0,1,0),(0,0,1)?$ "
   ]
  },
  {
   "cell_type": "markdown",
   "metadata": {
    "id": "XHpOjJcmdwbN"
   },
   "source": [
    "**В конечномерном евклидовом пространстве базис $\\{e_{1},e_{2},...,e_{n}\\}$ называется ортонормированным, если:**\n",
    "\n",
    "$$\\boldsymbol{(e_{i}, e_{j})=0 \\forall i \\neq j}$$ \n",
    "**<center>и</center>**\n",
    "\n",
    "$$\\boldsymbol{(e_{i},e_{i})=1\\forall i\\in[1, n].}$$\n",
    "\n",
    "\n",
    "а) $(1,0,0),(0,0,1);$ <br>\n",
    "Не образуют, т.к. у нас пространство трехмерное а веторов всего два.\n",
    "\n",
    "б) $(1/\\sqrt{2},-1/\\sqrt{2},0),(1/\\sqrt{2},1/\\sqrt{2},0), (0,0,1);$<br>\n",
    "\n",
    "Проверим условия:\n",
    "\n",
    "$(e_1,e_2) = (1/\\sqrt{2} \\cdot 1/\\sqrt{2}) + (-1/\\sqrt{2} \\cdot 1/\\sqrt{2}) + (0 \\cdot 0) = 0 $\n",
    "\n",
    "Скалярное произведение остальных также равно нулю, это видно без вычислений.\n",
    "\n",
    "Это условие выполняется.\n",
    "\n",
    "$(e_1,e_1) = (1/\\sqrt{2} \\cdot 1/\\sqrt{2}) + (-1/\\sqrt{2} \\cdot -1/\\sqrt{2}) + (0 \\cdot 0) = 1/2 + 1/2 = 1$\n",
    "\n",
    "$(e_2,e_2) = (1/\\sqrt{2} \\cdot 1/\\sqrt{2}) + (1/\\sqrt{2} \\cdot 1/\\sqrt{2}) + (0 \\cdot 0) = 1/2 + 1/2 = 1$\n",
    "\n",
    "$(e_3,e_3) = (0 \\cdot 0) + (0 \\cdot 0) + (1 \\cdot 1) = 1$\n",
    "\n",
    "Векторы удовлетворяют всем условиям, поэтому образуют ортонормированный базис.\n",
    "\n",
    "в) $(1/2, -1/2, 0), (0, 1/2, 1/2), (0,0,1);$<br>\n",
    "\n",
    "$(e_1,e_2) = (1/2 \\cdot 0) + (-1/2 \\cdot 1/2) + (0 \\cdot 1/2) = \n",
    "0 - 1/4 + 0 = -1/4 $\n",
    "\n",
    "Cкалярное произведение двух первых векторов не равно 0. Следовательно векторы не образуют ортонормированный базис.\n",
    "\n",
    "г) $(1,0,0),(0,1,0),(0,0,1)$ \n",
    "\n",
    "Векторы удовлетворяют всем условиям, поэтому образуют ортонормированный базис.\n"
   ]
  },
  {
   "cell_type": "code",
   "execution_count": null,
   "metadata": {
    "id": "woYGBm0nO6RA"
   },
   "outputs": [],
   "source": []
  }
 ],
 "metadata": {
  "colab": {
   "authorship_tag": "ABX9TyM5xVi1PY58jKF7e8bdOAUn",
   "collapsed_sections": [],
   "name": "homework1-2.ipynb",
   "provenance": []
  },
  "kernelspec": {
   "display_name": "Python 3",
   "language": "python",
   "name": "python3"
  },
  "language_info": {
   "codemirror_mode": {
    "name": "ipython",
    "version": 3
   },
   "file_extension": ".py",
   "mimetype": "text/x-python",
   "name": "python",
   "nbconvert_exporter": "python",
   "pygments_lexer": "ipython3",
   "version": "3.8.5"
  }
 },
 "nbformat": 4,
 "nbformat_minor": 4
}
