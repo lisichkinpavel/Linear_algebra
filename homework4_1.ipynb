{
  "nbformat": 4,
  "nbformat_minor": 0,
  "metadata": {
    "colab": {
      "name": "homework4-1.ipynb",
      "provenance": [],
      "collapsed_sections": []
    },
    "kernelspec": {
      "name": "python3",
      "display_name": "Python 3"
    }
  },
  "cells": [
    {
      "cell_type": "code",
      "metadata": {
        "id": "EWHeB3Lk3Alg"
      },
      "source": [
        "import numpy as np"
      ],
      "execution_count": null,
      "outputs": []
    },
    {
      "cell_type": "markdown",
      "metadata": {
        "id": "DYQDwiDC3k8f"
      },
      "source": [
        "__1.__ Решить систему уравнений методом Гаусса:\n",
        "\n",
        "$$\\begin{cases}\n",
        "x_{1}+x_{2}-x_{3}-2x_{4}=0, \\\\\n",
        "2x_{1}+x_{2}-x_{3}+x_{4}=-2, \\\\\n",
        "x_{1}+x_{2}-3x_{3}+x_{4}=4.\n",
        "\\end{cases}$$\n",
        "\n",
        "$\\begin{cases}\n",
        "x_{1}+x_{2}-x_{3}-2x_{4}=0, \\\\\n",
        "2x_{1}+x_{2}-x_{3}+x_{4}=-2, \\\\\n",
        "x_{1}+x_{2}-3x_{3}+x_{4}=4.\n",
        "\\end{cases}$\n",
        "\n",
        "$\\begin{pmatrix}\n",
        "\\left.\\begin{matrix}\n",
        "1 & 1 & -1 & -2\\\\ \n",
        "2 & 1 & -1 & 1\\\\ \n",
        "1 & 1 & -3 & 1\n",
        "\\end{matrix}\\right|\n",
        "\\begin{matrix}\n",
        "0\\\\ \n",
        "-2\\\\\n",
        "4\n",
        "\\end{matrix}\n",
        "\\end{pmatrix}$\n",
        "\n",
        "Из второй строки вычитаем первую, умноженную на 2.\n",
        "\n",
        "Из третьей строки вычитаем первую.\n",
        "\n",
        "$\\begin{pmatrix}\n",
        "\\left.\\begin{matrix}\n",
        "1 & 1 & -1 & -2\\\\ \n",
        "0 & -1 & 1 & 5\\\\ \n",
        "0 & 0 & -2 & 3\n",
        "\\end{matrix}\\right|\n",
        "\\begin{matrix}\n",
        "0\\\\ \n",
        "-2\\\\\n",
        "4\n",
        "\\end{matrix}\n",
        "\\end{pmatrix}$\n",
        "\n",
        "$x_{4} = c$\n",
        "\n",
        "---\n",
        "\n",
        "$-2x_{3} + 3x_{4} = 4$\n",
        "\n",
        "$-2x_{3} = 4 - 3c$\n",
        "\n",
        "$x_{3} = \\frac{3c-4}{2} = 1.5c-2$\n",
        "\n",
        "---\n",
        "\n",
        "$-x_{2} + 1.5c - 2 +5c = -2$\n",
        "\n",
        "$x_{2}=2 + 1.5c +2 +5c = 6.5c$\n",
        "\n",
        "---\n",
        "\n",
        "$x_{1}+ 6.5c - 1.5c + 2 - 2c = 0$\n",
        "\n",
        "$x_{1} + 3c +2 = 0$\n",
        "\n",
        "$x_{1}  = -3c - 2$\n",
        "\n",
        "При $c =0$ получаем:\n",
        "\n",
        "$x_{4} = 0$\n",
        "\n",
        "$x_{3} = -2$\n",
        "\n",
        "$x_{2} = 0$\n",
        "\n",
        "$x_{1} = -2$\n",
        "\n",
        "\n"
      ]
    },
    {
      "cell_type": "markdown",
      "metadata": {
        "id": "_CTRrkP29zXk"
      },
      "source": [
        "__2.__ Проверить на совместность и выяснить, сколько решений будет иметь система линейных уравнений:\n",
        "\n",
        "   а) $\\begin{cases}\n",
        "3x_{1}-x_{2}+x_{3}=4, \\\\\n",
        "2x_{1}-5x_{2}-3x_{3}=-17, \\\\\n",
        "x_{1}+x_{2}-x_{3}=0;\n",
        "\\end{cases}$\n",
        "    "
      ]
    },
    {
      "cell_type": "code",
      "metadata": {
        "id": "bcbI6KIK-JK8"
      },
      "source": [
        "A = np.array([[3, -1, 1], \n",
        "             [2, -5, -3], \n",
        "             [1, 1, -1]])\n",
        "\n",
        "A_ext = np.array([[3, -1, 1, 4], \n",
        "             [2, -5, -3, -17], \n",
        "             [1, 1, -1, 0]])"
      ],
      "execution_count": null,
      "outputs": []
    },
    {
      "cell_type": "code",
      "metadata": {
        "colab": {
          "base_uri": "https://localhost:8080/"
        },
        "id": "OI9QeFfj_nhI",
        "outputId": "13b8e2d1-9351-4ad2-894b-11cabdc79233"
      },
      "source": [
        "print(f'Ранг матрицы = {np.linalg.matrix_rank(A)}')\n",
        "print(f'Ранг расширенной матрицы = {np.linalg.matrix_rank(A_ext)}')"
      ],
      "execution_count": null,
      "outputs": [
        {
          "output_type": "stream",
          "text": [
            "Ранг матрицы = 3\n",
            "Ранг расширенной матрицы = 3\n"
          ],
          "name": "stdout"
        }
      ]
    },
    {
      "cell_type": "markdown",
      "metadata": {
        "id": "iwpgHOh_AJYX"
      },
      "source": [
        "Ранг матрицы равен рангу расширенной матрицы и равен числу неизвестных, значит система имеет единственное решение."
      ]
    },
    {
      "cell_type": "markdown",
      "metadata": {
        "id": "bbA9XBre999v"
      },
      "source": [
        "   б) $\\begin{cases}\n",
        "2x_{1}-4x_{2}+6x_{3}=1, \\\\\n",
        "x_{1}-2x_{2}+3x_{3}=-2, \\\\\n",
        "3x_{1}-6x_{2}+9x_{3}=5;\n",
        "\\end{cases}$"
      ]
    },
    {
      "cell_type": "code",
      "metadata": {
        "id": "B5x464MmAX1W"
      },
      "source": [
        "A = np.array([[2, -4, 6], \n",
        "             [1, -2, 3], \n",
        "             [3, -6, 9]])\n",
        "\n",
        "A_ext = np.array([[2, -4, 6, 4], \n",
        "                 [1, -2, 3, -17], \n",
        "                 [3, -6, 9, 0]])"
      ],
      "execution_count": null,
      "outputs": []
    },
    {
      "cell_type": "code",
      "metadata": {
        "id": "4Cy3fSfIAYk_"
      },
      "source": [
        "print(f'Ранг матрицы = {np.linalg.matrix_rank(A)}')\n",
        "print(f'Ранг расширенной матрицы = {np.linalg.matrix_rank(A_ext)}')"
      ],
      "execution_count": null,
      "outputs": []
    },
    {
      "cell_type": "markdown",
      "metadata": {
        "id": "3Ja7vImIAfSc"
      },
      "source": [
        "Ранг матрицы меньше ранга расширенной матрицы, значит система несовместна."
      ]
    },
    {
      "cell_type": "markdown",
      "metadata": {
        "id": "yyI505HG-A80"
      },
      "source": [
        "   в) $\\begin{cases}\n",
        "x_{1}+2x_{2}+5x_{3}=4, \\\\\n",
        "3x_{1}+x_{2}-8x_{3}=-2. \n",
        "\\end{cases}$"
      ]
    },
    {
      "cell_type": "code",
      "metadata": {
        "id": "d6uxxOiS9thG"
      },
      "source": [
        "A = np.array([[1, 2, 5], \n",
        "             [3, 1, -8]])\n",
        "\n",
        "A_ext = np.array([[1, 2, 5, 4], \n",
        "             [3, 1, -8, -2]])"
      ],
      "execution_count": null,
      "outputs": []
    },
    {
      "cell_type": "code",
      "metadata": {
        "colab": {
          "base_uri": "https://localhost:8080/"
        },
        "id": "_8GjgS9NBeO1",
        "outputId": "7262ff3a-f4b3-430b-c159-19db87834418"
      },
      "source": [
        "print(f'Ранг матрицы = {np.linalg.matrix_rank(A)}')\n",
        "print(f'Ранг расширенной матрицы = {np.linalg.matrix_rank(A_ext)}')"
      ],
      "execution_count": null,
      "outputs": [
        {
          "output_type": "stream",
          "text": [
            "Ранг матрицы = 2\n",
            "Ранг расширенной матрицы = 2\n"
          ],
          "name": "stdout"
        }
      ]
    },
    {
      "cell_type": "markdown",
      "metadata": {
        "id": "XxMOdz8PBu7X"
      },
      "source": [
        "Ранг матрицы равен рангу расширенной матрицы и меньше числа неизвестных, значит система имеет бесконечное количество решений."
      ]
    },
    {
      "cell_type": "markdown",
      "metadata": {
        "id": "BmlsS0NyCLS_"
      },
      "source": [
        "\n",
        "__3.__ Проверить на совместность и выяснить, сколько решений будет иметь система линейных уравнений, заданная расширенной матрицей\n",
        "\n",
        "$$\\tilde{A}=\\begin{pmatrix}\n",
        "\\left.\\begin{matrix}\n",
        "1 & 3 & -2 & 4\\\\ \n",
        "0 & 5 & 0 & 1\\\\ \n",
        "0 & 0 & 3 & 0\\\\ \n",
        "0 & 0 & 0 & 2\n",
        "\\end{matrix}\\right|\n",
        "\\begin{matrix}\n",
        "3\\\\ \n",
        "2\\\\\n",
        "4\\\\\n",
        "1\n",
        "\\end{matrix}\n",
        "\\end{pmatrix}.$$"
      ]
    },
    {
      "cell_type": "markdown",
      "metadata": {
        "id": "LCipASB4CXtj"
      },
      "source": [
        "\n",
        "Можем проверить совместность через ранги исходной и расширенной матриц\n"
      ]
    },
    {
      "cell_type": "code",
      "metadata": {
        "id": "D3Qw6SubB-Gd"
      },
      "source": [
        "A = np.array([[1, 3, -2, 4], \n",
        "              [0, 5, 0, 1], \n",
        "              [0, 0, 3, 0], \n",
        "              [0, 0, 0, 2]])\n",
        "\n",
        "A_ext = np.array([[1, 3, -2, 4, 3], \n",
        "                  [0, 5, 0, 1, 2], \n",
        "                  [0, 0, 3, 0, 4], \n",
        "                  [0, 0, 0, 2, 1]])"
      ],
      "execution_count": null,
      "outputs": []
    },
    {
      "cell_type": "code",
      "metadata": {
        "colab": {
          "base_uri": "https://localhost:8080/"
        },
        "id": "pHbOo5TIDjKJ",
        "outputId": "65f4cecc-b021-4093-eaf6-ff7c846b107e"
      },
      "source": [
        "print(f'Ранг матрицы = {np.linalg.matrix_rank(A)}')\n",
        "print(f'Ранг расширенной матрицы = {np.linalg.matrix_rank(A_ext)}')"
      ],
      "execution_count": null,
      "outputs": [
        {
          "output_type": "stream",
          "text": [
            "Ранг матрицы = 4\n",
            "Ранг расширенной матрицы = 4\n"
          ],
          "name": "stdout"
        }
      ]
    },
    {
      "cell_type": "markdown",
      "metadata": {
        "id": "yUtEJWjpD996"
      },
      "source": [
        "Ранг матрицы равен рангу расширенной матрицы и равен числу неизвестных, значит система имеет единственное решение."
      ]
    },
    {
      "cell_type": "markdown",
      "metadata": {
        "id": "aTScxTdgEH39"
      },
      "source": [
        "__4.__ Дана система линейных уравнений, заданная расширенной матрицей\n",
        "\n",
        "$$\\tilde{A}=\\begin{pmatrix}\n",
        "\\left.\\begin{matrix}\n",
        "1 & 2 & 3\\\\ \n",
        "4 & 5 & 6\\\\ \n",
        "7 & 8 & 9\n",
        "\\end{matrix}\\right|\n",
        "\\begin{matrix}\n",
        "a\\\\ \n",
        "b\\\\\n",
        "c\n",
        "\\end{matrix}\n",
        "\\end{pmatrix}.$$\n",
        "\n",
        "Найти соотношение между параметрами $a$, $b$ и $c$, при которых система является несовместной."
      ]
    },
    {
      "cell_type": "markdown",
      "metadata": {
        "id": "sAlQ1dQ-KS-x"
      },
      "source": [
        "$\\begin{pmatrix}\n",
        "\\left.\\begin{matrix}\n",
        "1 & 2 & 3\\\\ \n",
        "4 & 5 & 6\\\\ \n",
        "7 & 8 & 9\n",
        "\\end{matrix}\\right|\n",
        "\\begin{matrix}\n",
        "a\\\\ \n",
        "b\\\\\n",
        "c\n",
        "\\end{matrix}\n",
        "\\end{pmatrix}$\n",
        "\n",
        "Вычтем из второй строки первую, умноженную на 4.\n",
        "\n",
        "Из третьей строки вычтем первую, умноженную на 7.\n",
        "\n",
        "$\\begin{pmatrix}\n",
        "\\left.\\begin{matrix}\n",
        "1 & 2 & 3\\\\ \n",
        "0 & -3 & -6\\\\ \n",
        "0 & -6 & -12\n",
        "\\end{matrix}\\right|\n",
        "\\begin{matrix}\n",
        "a\\\\ \n",
        "(b - 4a)\\\\\n",
        "(c - 7a)\n",
        "\\end{matrix}\n",
        "\\end{pmatrix}$\n",
        "\n",
        "К третьей строке прибавим вторую, умноженную на 2.\n",
        "\n",
        "$\\begin{pmatrix}\n",
        "\\left.\\begin{matrix}\n",
        "1 & 2 & 3\\\\ \n",
        "0 & -3 & -6\\\\ \n",
        "0 & 0 & 0\n",
        "\\end{matrix}\\right|\n",
        "\\begin{matrix}\n",
        "a\\\\ \n",
        "(b - 4a)\\\\\n",
        "(c - 7a) + 2(b -4a)\n",
        "\\end{matrix}\n",
        "\\end{pmatrix}$\n",
        "\n",
        "Система будет несовместна в случае когда $(c - 7a) + 2(b -4a) \\neq 0$\n",
        "\n",
        "Соответственно:\n",
        "\n",
        "$(c - 7a) + 2(b -4a) \\neq 0$\n",
        "\n",
        "$c - 7a + 2b -8a \\neq 0$\n",
        "\n",
        "$c + 2b -15a \\neq 0$\n",
        "\n",
        "\n"
      ]
    }
  ]
}