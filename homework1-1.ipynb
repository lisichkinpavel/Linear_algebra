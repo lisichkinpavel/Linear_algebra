{
 "cells": [
  {
   "cell_type": "markdown",
   "metadata": {
    "id": "aU5YNMH9kVqP"
   },
   "source": [
    "## Практическое задание"
   ]
  },
  {
   "cell_type": "markdown",
   "metadata": {
    "id": "SmdURZ_OkVqQ"
   },
   "source": [
    "__1.__ Исследовать на линейную зависимость:\n",
    "$$f_{1}(x)=e^{x}, f_{2}(x)=1, f_{3}(x)=x+1, f_{4}(x)=x-e^{x}.$$"
   ]
  },
  {
   "cell_type": "markdown",
   "metadata": {
    "id": "bZF2_y3xmCJD"
   },
   "source": [
    "Заметим, что \n",
    "$$f_{4}(x) = f_{3}(x)-f_{2}(x)-f_{1}(x)$$\n",
    "$$x-e^{x} = x+1-1-e^{x} $$\n",
    "$$x-e^{x} = x-e^{x} $$\n",
    "\n",
    "Следовательно, вектора линейно зависимы, т.к. мы можем выразить один вектор через остальные."
   ]
  },
  {
   "cell_type": "markdown",
   "metadata": {
    "id": "cECfCSANkVqR"
   },
   "source": [
    "__2.__ Исследовать на линейную зависимость:\n",
    "$$f_{1}(x)=2, f_{2}(x)=x, f_{3}(x)=x^{2}, f_{4}(x)=(x+1)^{2}.$$"
   ]
  },
  {
   "cell_type": "markdown",
   "metadata": {
    "id": "nO4FYldGndtT"
   },
   "source": [
    "$$f_{4}(x)=(x+1)^{2} = x^{2} + 2x + 1$$\n",
    "$$f_{4}(x)=f_{3}(x) + 2 f_{2}(x) + \\frac{1}{2} f_{1}(x)$$\n",
    "$$x^{2} + 2x + 1 = x^{2} + 2x + \\frac{1}{2}2 $$\n",
    "$$x^{2} + 2x + 1 = x^{2} + 2x + 1 $$\n",
    "\n",
    "Следовательно, вектора линейно зависимы"
   ]
  },
  {
   "cell_type": "markdown",
   "metadata": {
    "id": "DFrjdtbHkVqS"
   },
   "source": [
    "__3.__ Найти координаты вектора $x = (2, 3, 5)\\in \\mathbb{R}^{3}$ в базисе $b_{1}=(0, 0, 10)$, $b_{2}=(2, 0, 0)$, $b_{3}=(0, 1, 0)$.\n",
    "\n",
    "$x = (2, 3, 5) = \\frac{1}{2}(0, 0, 10) + 1(2, 0, 0) + 3(0, 1, 0) = \n",
    "\\frac{1}{2}b_{1} + b_{2} + 3b_{3}$\n",
    "\n",
    "Координатами вектора $x$ в базисе $b_{1},b_{2},b_{3}$ являются $\\frac{1}{2}, 1, 3$"
   ]
  },
  {
   "cell_type": "markdown",
   "metadata": {
    "id": "5la-eVLukVqT"
   },
   "source": [
    "__4.__ Найти координаты вектора $3x^{2}-2x+2\\in\\mathbb{R}^{3}[x]$:\n",
    "\n",
    "   а) в базисе $1$, $x$, $x^{2}$;\n",
    "\n",
    "$e_{1} = 1$\n",
    "\n",
    "$e_{2} = x$\n",
    "\n",
    "$e_{3} = x^{2}$\n",
    "\n",
    "$3x^{2}-2x+ 2 = 3 \\cdot x^{2} - 2 \\cdot x - 2 \\cdot1 = 3e_{3} - 2e_{2} + e_{1}$\n",
    "\n",
    "Координатами вектора $3x^{2}-2x+ 2$ в базисе $1$, $x$, $x^{2}$ являются $1, -2, 3$"
   ]
  },
  {
   "cell_type": "markdown",
   "metadata": {
    "id": "DqKR1mHE4EZS"
   },
   "source": [
    "   б) в базисе $x^{2}$, $x-1$, $1$.\n",
    "\n",
    "$e_{1} = x^{2}$\n",
    "\n",
    "$e_{2} = x-1$\n",
    "\n",
    "$e_{3} = 1$\n",
    "\n",
    "$3x^{2}-2x+ 2 = 3 \\cdot x^{2} - 2 \\cdot (x - 1) - 0 \\cdot1 = 3e_{1} - 2e_{2} + 0e_{3}$\n",
    "\n",
    "Координатами вектора $3x^{2}-2x+ 2$ в базисе $x^{2}$, $x-1$, $1$ являются $3, -2, 0$"
   ]
  },
  {
   "cell_type": "markdown",
   "metadata": {
    "id": "kQlell_GkVqU"
   },
   "source": [
    "__5.__ Установить, является ли линейным подпространством:\n",
    "\n",
    "а) совокупность всех векторов трехмерного пространства, у которых по крайней мере одна из первых двух координат равна нулю;\n",
    "    \n",
    "б) все векторы, являющиеся линейными комбинациями данных векторов $\\{u_{1}, u_{2}, ..., u_{n}\\}$."
   ]
  }
 ],
 "metadata": {
  "colab": {
   "authorship_tag": "ABX9TyP1zef5C99qOMGgT5/k3uNF",
   "collapsed_sections": [],
   "name": "homework1-1.ipynb",
   "provenance": []
  },
  "kernelspec": {
   "display_name": "Python 3",
   "language": "python",
   "name": "python3"
  },
  "language_info": {
   "codemirror_mode": {
    "name": "ipython",
    "version": 3
   },
   "file_extension": ".py",
   "mimetype": "text/x-python",
   "name": "python",
   "nbconvert_exporter": "python",
   "pygments_lexer": "ipython3",
   "version": "3.8.5"
  }
 },
 "nbformat": 4,
 "nbformat_minor": 4
}
