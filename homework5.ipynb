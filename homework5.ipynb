{
  "nbformat": 4,
  "nbformat_minor": 0,
  "metadata": {
    "colab": {
      "name": "homework5.ipynb",
      "provenance": [],
      "collapsed_sections": []
    },
    "language_info": {
      "codemirror_mode": {
        "name": "ipython",
        "version": 3
      },
      "file_extension": ".py",
      "mimetype": "text/x-python",
      "name": "python",
      "nbconvert_exporter": "python",
      "pygments_lexer": "ipython3",
      "version": "3.7.1"
    },
    "kernelspec": {
      "display_name": "Python 3",
      "language": "python",
      "name": "python3"
    }
  },
  "cells": [
    {
      "cell_type": "markdown",
      "metadata": {
        "id": "88Mbd_tGCzso"
      },
      "source": [
        "## Практическое задание"
      ]
    },
    {
      "cell_type": "markdown",
      "metadata": {
        "id": "aoo5c_Q0Czsp"
      },
      "source": [
        "1. Найти с помощью NumPy SVD для матрицы\n",
        "\n",
        "$$\\begin{pmatrix}\n",
        "1 & 2 & 0\\\\ \n",
        "0 & 0 & 5\\\\ \n",
        "3 & -4 & 2\\\\ \n",
        "1 & 6 & 5\\\\ \n",
        "0 & 1 & 0\n",
        "\\end{pmatrix}.$$\n",
        "\n",
        "\n"
      ]
    },
    {
      "cell_type": "code",
      "metadata": {
        "id": "qxpFdE_CtDxO"
      },
      "source": [
        "import numpy as np"
      ],
      "execution_count": 1,
      "outputs": []
    },
    {
      "cell_type": "code",
      "metadata": {
        "id": "DtZexJwUtJVk"
      },
      "source": [
        "A = np.array([[1, 2, 0], \n",
        "              [0, 0, 5], \n",
        "              [3, -4, 2], \n",
        "              [1, 6, 5], \n",
        "              [0, 1, 0]])"
      ],
      "execution_count": 2,
      "outputs": []
    },
    {
      "cell_type": "code",
      "metadata": {
        "id": "IRbadIzDt_Qf"
      },
      "source": [
        "U, D, V = np.linalg.svd(A)"
      ],
      "execution_count": 3,
      "outputs": []
    },
    {
      "cell_type": "code",
      "metadata": {
        "colab": {
          "base_uri": "https://localhost:8080/"
        },
        "id": "VFBTvFOIuKEk",
        "outputId": "72f5fe2b-bb8b-49b4-bc36-dc89b8688c3c"
      },
      "source": [
        "U"
      ],
      "execution_count": 4,
      "outputs": [
        {
          "output_type": "execute_result",
          "data": {
            "text/plain": [
              "array([[ 0.17056501,  0.15680918, -0.53077508, -0.79905375, -0.16158397],\n",
              "       [ 0.39287016, -0.52933945,  0.6134793 , -0.43375771,  0.03082495],\n",
              "       [-0.14366152, -0.82449256, -0.52379105,  0.14049848,  0.07400343],\n",
              "       [ 0.88843702,  0.06074346, -0.24655277,  0.37755832, -0.06042632],\n",
              "       [ 0.08125046,  0.10831843, -0.08231425, -0.10524851,  0.98173958]])"
            ]
          },
          "metadata": {
            "tags": []
          },
          "execution_count": 4
        }
      ]
    },
    {
      "cell_type": "code",
      "metadata": {
        "colab": {
          "base_uri": "https://localhost:8080/"
        },
        "id": "8asxktM_uYjW",
        "outputId": "82333b8c-696c-4564-a059-325a27c3f606"
      },
      "source": [
        "D"
      ],
      "execution_count": 8,
      "outputs": [
        {
          "output_type": "execute_result",
          "data": {
            "text/plain": [
              "array([8.82486885, 6.14060608, 2.53271528])"
            ]
          },
          "metadata": {
            "tags": []
          },
          "execution_count": 8
        }
      ]
    },
    {
      "cell_type": "code",
      "metadata": {
        "colab": {
          "base_uri": "https://localhost:8080/"
        },
        "id": "U7Jo8C10u-tP",
        "outputId": "c2af02e2-2a54-4c7b-9385-eb42dfbc07c5"
      },
      "source": [
        "V"
      ],
      "execution_count": 9,
      "outputs": [
        {
          "output_type": "execute_result",
          "data": {
            "text/plain": [
              "array([[ 0.07116451,  0.71702467,  0.69340553],\n",
              "       [-0.36737824,  0.66514082, -0.65009301],\n",
              "       [-0.92734505, -0.20847855,  0.31075368]])"
            ]
          },
          "metadata": {
            "tags": []
          },
          "execution_count": 9
        }
      ]
    },
    {
      "cell_type": "markdown",
      "metadata": {
        "id": "5MV9Zj2AtEOw"
      },
      "source": [
        "2. Для матрицы из предыдущего задания найти:\n",
        "\n",
        "    а) евклидову норму;\n",
        "    \n"
      ]
    },
    {
      "cell_type": "code",
      "metadata": {
        "colab": {
          "base_uri": "https://localhost:8080/"
        },
        "id": "O9xt7QibyoCz",
        "outputId": "c021befb-c157-4963-d897-97b02fac936f"
      },
      "source": [
        "np.linalg.norm(A, ord=2)"
      ],
      "execution_count": 11,
      "outputs": [
        {
          "output_type": "execute_result",
          "data": {
            "text/plain": [
              "8.824868854820444"
            ]
          },
          "metadata": {
            "tags": []
          },
          "execution_count": 11
        }
      ]
    },
    {
      "cell_type": "markdown",
      "metadata": {
        "id": "IGruTsGHyoa5"
      },
      "source": [
        "    б) норму Фробениуса."
      ]
    },
    {
      "cell_type": "code",
      "metadata": {
        "colab": {
          "base_uri": "https://localhost:8080/"
        },
        "id": "yvZkwxg3xs9a",
        "outputId": "ec68163e-c428-414c-c863-11c5bfc948fe"
      },
      "source": [
        "np.linalg.norm(A, ord='fro')"
      ],
      "execution_count": 10,
      "outputs": [
        {
          "output_type": "execute_result",
          "data": {
            "text/plain": [
              "11.045361017187261"
            ]
          },
          "metadata": {
            "tags": []
          },
          "execution_count": 10
        }
      ]
    },
    {
      "cell_type": "markdown",
      "metadata": {
        "id": "3Ht4c166Czsu"
      },
      "source": [
        "1. [SVD в NumPy](https://docs.scipy.org/doc/numpy-1.15.1/reference/generated/numpy.linalg.svd.html)."
      ]
    }
  ]
}