{
  "nbformat": 4,
  "nbformat_minor": 0,
  "metadata": {
    "colab": {
      "name": "homework3.ipynb",
      "provenance": [],
      "collapsed_sections": []
    },
    "kernelspec": {
      "name": "python3",
      "display_name": "Python 3"
    }
  },
  "cells": [
    {
      "cell_type": "markdown",
      "metadata": {
        "id": "kB1hOiAzmX1L"
      },
      "source": [
        "__1.__ Найти собственные векторы и собственные значения для линейного оператора, заданного матрицей\n",
        "\n",
        "$$A=\\begin{pmatrix}\n",
        "-1 & -6\\\\ \n",
        "2 & 6\n",
        "\\end{pmatrix}.$$\n",
        "\n",
        "Собственные значения:\n",
        "\n",
        "$\\begin{vmatrix}\n",
        "-1 - \\lambda & -6\\\\ \n",
        "2 & 6 - \\lambda\n",
        "\\end{vmatrix} = 0$\n",
        "\n",
        "$(-1 - \\lambda)\\cdot(6 - \\lambda) - (-6)\\cdot 2 = 0$\n",
        "\n",
        "$-6 + \\lambda -6\\lambda + \\lambda^{2}+12 = 0$\n",
        "\n",
        "$\\lambda^{2} - 5\\lambda + 6 = 0$\n",
        "\n",
        "$D = 25 - 4\\cdot1\\cdot6 = 25 -24 = 1$\n",
        "\n",
        "$\\lambda_{1} = \\frac{5 + \\sqrt{1}}{2\\cdot1}= 3$ \n",
        "\n",
        "$\\begin{pmatrix}\n",
        "-1 & -6\\\\ \n",
        "2 & 6\n",
        "\\end{pmatrix} \n",
        "\\begin{pmatrix}\n",
        "x_{1}\\\\ \n",
        "x_{2}\n",
        "\\end{pmatrix} = \\lambda_{1} \\cdot\n",
        "\\begin{pmatrix}\n",
        "x_{1}\\\\ \n",
        "x_{2}\n",
        "\\end{pmatrix}$\n",
        "\n",
        "$\\begin{pmatrix}\n",
        "-1 & -6\\\\ \n",
        "2 & 6\n",
        "\\end{pmatrix} \n",
        "\\begin{pmatrix}\n",
        "x_{1}\\\\ \n",
        "x_{2}\n",
        "\\end{pmatrix} = 3 \\cdot\n",
        "\\begin{pmatrix}\n",
        "x_{1}\\\\ \n",
        "x_{2}\n",
        "\\end{pmatrix}$\n",
        "\n",
        "$\\begin{cases}\n",
        "-x_{1}-6x_{2}=3x_{1} \\\\ \n",
        "-2x_{1}+6x_{2}=3x_{2} \n",
        "\\end{cases}\n",
        "\\begin{cases}\n",
        "-4x_{1}=6x_{2} \\\\ \n",
        "2x_{1}=-3x_{2} \n",
        "\\end{cases}\n",
        "\\Rightarrow\n",
        "x_{1} = -\\frac{3}{2}x_{2}$\n",
        "\n",
        "Возьмем $x_{2} = 2$, тогда $x_{1} = -3$, следеовательно \n",
        "$\\begin{pmatrix}\n",
        "-3\\\\ \n",
        "2\n",
        "\\end{pmatrix}$ будет собственным вектором."
      ]
    },
    {
      "cell_type": "markdown",
      "metadata": {
        "id": "OUPkQZ_jtfgJ"
      },
      "source": [
        "$\\lambda_{2} = \\frac{5 - \\sqrt{1}}{2\\cdot1}= 2$ \n",
        "\n",
        "$\\begin{pmatrix}\n",
        "-1 & -6\\\\ \n",
        "2 & 6\n",
        "\\end{pmatrix} \n",
        "\\begin{pmatrix}\n",
        "x_{1}\\\\ \n",
        "x_{2}\n",
        "\\end{pmatrix} = \\lambda_{2} \\cdot\n",
        "\\begin{pmatrix}\n",
        "x_{1}\\\\ \n",
        "x_{2}\n",
        "\\end{pmatrix}$\n",
        "\n",
        "$\\begin{pmatrix}\n",
        "-1 & -6\\\\ \n",
        "2 & 6\n",
        "\\end{pmatrix} \n",
        "\\begin{pmatrix}\n",
        "x_{1}\\\\ \n",
        "x_{2}\n",
        "\\end{pmatrix} = 2 \\cdot\n",
        "\\begin{pmatrix}\n",
        "x_{1}\\\\ \n",
        "x_{2}\n",
        "\\end{pmatrix}$\n",
        "\n",
        "$\\begin{cases}\n",
        "-x_{1}-6x_{2}=2x_{1} \\\\ \n",
        "-2x_{1}+6x_{2}=2x_{2} \n",
        "\\end{cases}\n",
        "\\begin{cases}\n",
        "-3x_{1}=6x_{2} \\\\ \n",
        "2x_{1}=-4x_{2} \n",
        "\\end{cases}\n",
        "\\Rightarrow\n",
        "x_{1} = -2x_{2}$\n",
        "\n",
        "Возьмем $x_{2} = -1$, тогда $x_{1} = 2$, следеовательно \n",
        "$\\begin{pmatrix}\n",
        "-1\\\\ \n",
        "2\n",
        "\\end{pmatrix}$ будет собственным вектором."
      ]
    },
    {
      "cell_type": "code",
      "metadata": {
        "id": "plRnEPzrt3oZ"
      },
      "source": [
        "import numpy as np\n",
        "np.set_printoptions(precision=2, suppress=True)"
      ],
      "execution_count": 1,
      "outputs": []
    },
    {
      "cell_type": "code",
      "metadata": {
        "id": "Qtaop5yRt-wU",
        "outputId": "60ae988c-14d5-45d4-c1a5-427acb3a8e19",
        "colab": {
          "base_uri": "https://localhost:8080/"
        }
      },
      "source": [
        "a = np.array([[-1, -6], [2, 6]])\n",
        "w, v = np.linalg.eig(a)\n",
        "\n",
        "print(f'Матрица A:\\n{a}')\n",
        "print(f'Собственные значения:\\n{w}')\n",
        "print(f'Собственные векторы:\\n{v}')"
      ],
      "execution_count": 2,
      "outputs": [
        {
          "output_type": "stream",
          "text": [
            "Матрица A:\n",
            "[[-1 -6]\n",
            " [ 2  6]]\n",
            "Собственные значения:\n",
            "[2. 3.]\n",
            "Собственные векторы:\n",
            "[[-0.89  0.83]\n",
            " [ 0.45 -0.55]]\n"
          ],
          "name": "stdout"
        }
      ]
    },
    {
      "cell_type": "code",
      "metadata": {
        "id": "b5c1PFGauHWI"
      },
      "source": [
        ""
      ],
      "execution_count": null,
      "outputs": []
    },
    {
      "cell_type": "markdown",
      "metadata": {
        "id": "mZk9Wh5ku8-T"
      },
      "source": [
        "__2.__ Дан оператор поворота на 180 градусов, задаваемый матрицей \n",
        "\n",
        "$$A=\\begin{pmatrix}\n",
        "-1 & 0\\\\ \n",
        "0 & -1\n",
        "\\end{pmatrix}.$$\n",
        "\n",
        "Показать, что __любой__ вектор является для него собственным."
      ]
    },
    {
      "cell_type": "markdown",
      "metadata": {
        "id": "ejA6H5MNu_jZ"
      },
      "source": [
        "Пусть вектор $u(x,y)$ является собсвенным для линейного оператора $A$. Тогда должна существовать такая $\\lambda$, при которой выполняется равенство:\n",
        "\n",
        "$\\begin{pmatrix}\n",
        "-1 & 0\\\\ \n",
        "0 & -1\n",
        "\\end{pmatrix} \n",
        "\\begin{pmatrix}\n",
        "x\\\\ \n",
        "y\n",
        "\\end{pmatrix} = \\lambda \\cdot\n",
        "\\begin{pmatrix}\n",
        "x\\\\ \n",
        "y\n",
        "\\end{pmatrix}$\n",
        "\n",
        "$\\begin{cases}\n",
        "-1 \\cdot x + 0 \\cdot y=\\lambda \\cdot x \\\\ \n",
        "0 \\cdot x - 1 \\cdot y = \\lambda \\cdot y\n",
        "\\end{cases}\n",
        "\\begin{cases}\n",
        "-x=\\lambda \\cdot x\\\\ \n",
        "-y=\\lambda \\cdot y\n",
        "\\end{cases}\n",
        "\\Rightarrow\n",
        "\\lambda = -1$\n",
        "\n",
        "Мы видим, что $\\lambda$ не зависит от значений $x, y$, следовательно любой вектор будет собственным для линейного оператора \n",
        "$\\begin{pmatrix}\n",
        "-1 & 0\\\\ \n",
        "0 & -1\n",
        "\\end{pmatrix}$."
      ]
    },
    {
      "cell_type": "markdown",
      "metadata": {
        "id": "3WEnk0yXyit4"
      },
      "source": [
        "__3.__ Пусть линейный оператор задан матрицей\n",
        "\n",
        "$$A=\\begin{pmatrix}\n",
        "1 & 1\\\\ \n",
        "-1 & 3\n",
        "\\end{pmatrix}.$$\n",
        "\n",
        "Установить, является ли вектор $x=(1,1)$ собственным вектором этого линейного оператора.\n",
        "\n"
      ]
    },
    {
      "cell_type": "markdown",
      "metadata": {
        "id": "UOnMYsYvyvxP"
      },
      "source": [
        "$\\begin{pmatrix}\n",
        "1 & 1\\\\ \n",
        "-1 & 3\n",
        "\\end{pmatrix} \n",
        "\\begin{pmatrix}\n",
        "1\\\\ \n",
        "1\n",
        "\\end{pmatrix} = \\lambda \\cdot\n",
        "\\begin{pmatrix}\n",
        "1\\\\ \n",
        "1\n",
        "\\end{pmatrix}$\n",
        "\n",
        "$\\begin{cases}\n",
        "1 \\cdot 1 + 1 \\cdot 1=\\lambda \\cdot 1 \\\\ \n",
        "-1 \\cdot 1 + 3 \\cdot 1 = \\lambda \\cdot 1\n",
        "\\end{cases}\n",
        "\\begin{cases}\n",
        "\\lambda = 2\\\\ \n",
        "\\lambda = 2 \n",
        "\\end{cases}\n",
        "\\Rightarrow$\n",
        "вектор $x=(1,1)$ является собственным."
      ]
    },
    {
      "cell_type": "markdown",
      "metadata": {
        "id": "hsW8mFCHz5uh"
      },
      "source": [
        "__4.__ Пусть линейный оператор задан матрицей\n",
        "\n",
        "$$A=\\begin{pmatrix}\n",
        "0 & 3 & 0\\\\ \n",
        "3 & 0 & 0\\\\\n",
        "0 & 0 & 3\n",
        "\\end{pmatrix}.$$\n",
        "\n",
        "Установить, является ли вектор $x=(3, -3, -4)$ собственным вектором этого линейного оператора."
      ]
    },
    {
      "cell_type": "markdown",
      "metadata": {
        "id": "3p2dxzaZz6mb"
      },
      "source": [
        "$\\begin{pmatrix}\n",
        "0 & 3 & 0\\\\ \n",
        "3 & 0 & 0\\\\\n",
        "0 & 0 & 3\n",
        "\\end{pmatrix}\n",
        "\\begin{pmatrix}\n",
        "3\\\\ \n",
        "-3\\\\\n",
        "-4\n",
        "\\end{pmatrix} = \\lambda \\cdot\n",
        "\\begin{pmatrix}\n",
        "3\\\\ \n",
        "-3\\\\\n",
        "-4\n",
        "\\end{pmatrix}$\n",
        "\n",
        "$\\begin{cases}\n",
        "0 \\cdot 3 + 3 \\cdot (-3)+0\\cdot(-4)=3\\lambda\\\\ \n",
        "3 \\cdot 3 + 0 \\cdot (-3)+0\\cdot(-4)=-3\\lambda\\\\\n",
        "0 \\cdot 3 + 0 \\cdot (-3)+3\\cdot(-4)=-4\\lambda \n",
        "\\end{cases}$\n",
        "\n",
        "\n",
        "$\\begin{cases}\n",
        "-9=3\\lambda\\\\ \n",
        "9=-3\\lambda\\\\\n",
        "-12=-4\\lambda \n",
        "\\end{cases}$\n",
        "\n",
        "$\\begin{cases}\n",
        "\\lambda = -3\\\\ \n",
        "\\lambda = -3\\\\\n",
        "\\lambda = 3\n",
        "\\end{cases}$\n",
        "\n",
        "Система не имеет смысла, следовательно вектор $x=(3, -3, -4)$ не является собственным."
      ]
    },
    {
      "cell_type": "code",
      "metadata": {
        "id": "GbKTukPh2VlJ"
      },
      "source": [
        ""
      ],
      "execution_count": null,
      "outputs": []
    }
  ]
}